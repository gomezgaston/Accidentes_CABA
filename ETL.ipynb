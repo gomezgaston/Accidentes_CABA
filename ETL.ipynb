{
 "cells": [
  {
   "cell_type": "code",
   "execution_count": 1,
   "metadata": {},
   "outputs": [],
   "source": [
    "import pandas as pd\n",
    "pd.set_option('display.max_columns', None)\n",
    "import numpy as np"
   ]
  },
  {
   "cell_type": "code",
   "execution_count": 2,
   "metadata": {},
   "outputs": [],
   "source": [
    "def missing_values_table(df):\n",
    "    '''\n",
    "    Se pasa como parametro un df de pandas, devuelve la \n",
    "    cantidad de valores NaN y a que porcentaje del total de valores corresponen\n",
    "    '''\n",
    "    \n",
    "    mis_val = df.isna().sum()\n",
    "    mis_val_percent = 100 * df.isna().sum() / len(df)\n",
    "    mis_val_table = pd.concat([mis_val, mis_val_percent], axis=1)\n",
    "    mis_val_table_ren_columns = mis_val_table.rename(\n",
    "    columns = {0 : 'Missing Values', 1 : '% of Total Values'})\n",
    "    mis_val_table_ren_columns = mis_val_table_ren_columns[\n",
    "        mis_val_table_ren_columns.iloc[:,1] != 0].sort_values(\n",
    "    '% of Total Values', ascending=False).round(1)\n",
    "    print (\"Your selected dataframe has \" + str(df.shape[1]) + \" columns.\\n\"      \n",
    "        \"There are \" + str(mis_val_table_ren_columns.shape[0]) +\n",
    "            \" columns that have missing values.\")\n",
    "    return mis_val_table_ren_columns"
   ]
  },
  {
   "cell_type": "code",
   "execution_count": 62,
   "metadata": {},
   "outputs": [],
   "source": [
    "df_homicides = pd.read_excel(r\"data\\homicidios.xlsx\")\n",
    "df_lessions = pd.read_excel(r\"data\\lesiones.xlsx\")"
   ]
  },
  {
   "cell_type": "code",
   "execution_count": 84,
   "metadata": {},
   "outputs": [],
   "source": [
    "df_victimas = pd.read_excel(\"data\\homicidios.xlsx\", sheet_name= \"VICTIMAS\")\n",
    "df_victimas_l = pd.read_excel(\"data\\lesiones.xlsx\", sheet_name= \"VICTIMAS\")"
   ]
  },
  {
   "cell_type": "markdown",
   "metadata": {},
   "source": [
    "# EDA de df_homicides"
   ]
  },
  {
   "cell_type": "markdown",
   "metadata": {},
   "source": [
    "## aca agregar que es cada columna y a que hacer referencia el df en general"
   ]
  },
  {
   "cell_type": "code",
   "execution_count": 5,
   "metadata": {},
   "outputs": [
    {
     "data": {
      "text/html": [
       "<div>\n",
       "<style scoped>\n",
       "    .dataframe tbody tr th:only-of-type {\n",
       "        vertical-align: middle;\n",
       "    }\n",
       "\n",
       "    .dataframe tbody tr th {\n",
       "        vertical-align: top;\n",
       "    }\n",
       "\n",
       "    .dataframe thead th {\n",
       "        text-align: right;\n",
       "    }\n",
       "</style>\n",
       "<table border=\"1\" class=\"dataframe\">\n",
       "  <thead>\n",
       "    <tr style=\"text-align: right;\">\n",
       "      <th></th>\n",
       "      <th>ID</th>\n",
       "      <th>N_VICTIMAS</th>\n",
       "      <th>FECHA</th>\n",
       "      <th>AAAA</th>\n",
       "      <th>MM</th>\n",
       "      <th>DD</th>\n",
       "      <th>HORA</th>\n",
       "      <th>HH</th>\n",
       "      <th>LUGAR_DEL_HECHO</th>\n",
       "      <th>TIPO_DE_CALLE</th>\n",
       "      <th>Calle</th>\n",
       "      <th>Altura</th>\n",
       "      <th>Cruce</th>\n",
       "      <th>Dirección Normalizada</th>\n",
       "      <th>COMUNA</th>\n",
       "      <th>XY (CABA)</th>\n",
       "      <th>pos x</th>\n",
       "      <th>pos y</th>\n",
       "      <th>PARTICIPANTES</th>\n",
       "      <th>VICTIMA</th>\n",
       "      <th>ACUSADO</th>\n",
       "    </tr>\n",
       "  </thead>\n",
       "  <tbody>\n",
       "    <tr>\n",
       "      <th>0</th>\n",
       "      <td>2016-0001</td>\n",
       "      <td>1</td>\n",
       "      <td>2016-01-01</td>\n",
       "      <td>2016</td>\n",
       "      <td>1</td>\n",
       "      <td>1</td>\n",
       "      <td>04:00:00</td>\n",
       "      <td>4</td>\n",
       "      <td>AV PIEDRA BUENA Y AV FERNANDEZ DE LA CRUZ</td>\n",
       "      <td>AVENIDA</td>\n",
       "      <td>PIEDRA BUENA AV.</td>\n",
       "      <td>NaN</td>\n",
       "      <td>FERNANDEZ DE LA CRUZ, F., GRAL. AV.</td>\n",
       "      <td>PIEDRA BUENA AV. y FERNANDEZ DE LA CRUZ, F., G...</td>\n",
       "      <td>8</td>\n",
       "      <td>Point (98896.78238426 93532.43437792)</td>\n",
       "      <td>-58.47533969</td>\n",
       "      <td>-34.68757022</td>\n",
       "      <td>MOTO-AUTO</td>\n",
       "      <td>MOTO</td>\n",
       "      <td>AUTO</td>\n",
       "    </tr>\n",
       "    <tr>\n",
       "      <th>1</th>\n",
       "      <td>2016-0002</td>\n",
       "      <td>1</td>\n",
       "      <td>2016-01-02</td>\n",
       "      <td>2016</td>\n",
       "      <td>1</td>\n",
       "      <td>2</td>\n",
       "      <td>01:15:00</td>\n",
       "      <td>1</td>\n",
       "      <td>AV GRAL PAZ  Y AV DE LOS CORRALES</td>\n",
       "      <td>GRAL PAZ</td>\n",
       "      <td>PAZ, GRAL. AV.</td>\n",
       "      <td>NaN</td>\n",
       "      <td>DE LOS CORRALES AV.</td>\n",
       "      <td>PAZ, GRAL. AV. y DE LOS CORRALES AV.</td>\n",
       "      <td>9</td>\n",
       "      <td>Point (95832.05571093 95505.41641999)</td>\n",
       "      <td>-58.50877521</td>\n",
       "      <td>-34.66977709</td>\n",
       "      <td>AUTO-PASAJEROS</td>\n",
       "      <td>AUTO</td>\n",
       "      <td>PASAJEROS</td>\n",
       "    </tr>\n",
       "    <tr>\n",
       "      <th>2</th>\n",
       "      <td>2016-0003</td>\n",
       "      <td>1</td>\n",
       "      <td>2016-01-03</td>\n",
       "      <td>2016</td>\n",
       "      <td>1</td>\n",
       "      <td>3</td>\n",
       "      <td>07:00:00</td>\n",
       "      <td>7</td>\n",
       "      <td>AV ENTRE RIOS 2034</td>\n",
       "      <td>AVENIDA</td>\n",
       "      <td>ENTRE RIOS AV.</td>\n",
       "      <td>2034.0</td>\n",
       "      <td>NaN</td>\n",
       "      <td>ENTRE RIOS AV. 2034</td>\n",
       "      <td>1</td>\n",
       "      <td>Point (106684.29090040 99706.57687843)</td>\n",
       "      <td>-58.39040293</td>\n",
       "      <td>-34.63189362</td>\n",
       "      <td>MOTO-AUTO</td>\n",
       "      <td>MOTO</td>\n",
       "      <td>AUTO</td>\n",
       "    </tr>\n",
       "  </tbody>\n",
       "</table>\n",
       "</div>"
      ],
      "text/plain": [
       "          ID  N_VICTIMAS      FECHA  AAAA  MM  DD      HORA HH   \n",
       "0  2016-0001           1 2016-01-01  2016   1   1  04:00:00  4  \\\n",
       "1  2016-0002           1 2016-01-02  2016   1   2  01:15:00  1   \n",
       "2  2016-0003           1 2016-01-03  2016   1   3  07:00:00  7   \n",
       "\n",
       "                             LUGAR_DEL_HECHO TIPO_DE_CALLE             Calle   \n",
       "0  AV PIEDRA BUENA Y AV FERNANDEZ DE LA CRUZ       AVENIDA  PIEDRA BUENA AV.  \\\n",
       "1          AV GRAL PAZ  Y AV DE LOS CORRALES      GRAL PAZ    PAZ, GRAL. AV.   \n",
       "2                         AV ENTRE RIOS 2034       AVENIDA    ENTRE RIOS AV.   \n",
       "\n",
       "   Altura                                Cruce   \n",
       "0     NaN  FERNANDEZ DE LA CRUZ, F., GRAL. AV.  \\\n",
       "1     NaN                  DE LOS CORRALES AV.   \n",
       "2  2034.0                                  NaN   \n",
       "\n",
       "                               Dirección Normalizada  COMUNA   \n",
       "0  PIEDRA BUENA AV. y FERNANDEZ DE LA CRUZ, F., G...       8  \\\n",
       "1               PAZ, GRAL. AV. y DE LOS CORRALES AV.       9   \n",
       "2                                ENTRE RIOS AV. 2034       1   \n",
       "\n",
       "                                XY (CABA)         pos x         pos y   \n",
       "0   Point (98896.78238426 93532.43437792)  -58.47533969  -34.68757022  \\\n",
       "1   Point (95832.05571093 95505.41641999)  -58.50877521  -34.66977709   \n",
       "2  Point (106684.29090040 99706.57687843)  -58.39040293  -34.63189362   \n",
       "\n",
       "    PARTICIPANTES VICTIMA    ACUSADO  \n",
       "0       MOTO-AUTO    MOTO       AUTO  \n",
       "1  AUTO-PASAJEROS    AUTO  PASAJEROS  \n",
       "2       MOTO-AUTO    MOTO       AUTO  "
      ]
     },
     "execution_count": 5,
     "metadata": {},
     "output_type": "execute_result"
    }
   ],
   "source": [
    "df_homicides.head(3)"
   ]
  },
  {
   "cell_type": "code",
   "execution_count": 6,
   "metadata": {},
   "outputs": [
    {
     "name": "stdout",
     "output_type": "stream",
     "text": [
      "<class 'pandas.core.frame.DataFrame'>\n",
      "RangeIndex: 696 entries, 0 to 695\n",
      "Data columns (total 21 columns):\n",
      " #   Column                 Non-Null Count  Dtype         \n",
      "---  ------                 --------------  -----         \n",
      " 0   ID                     696 non-null    object        \n",
      " 1   N_VICTIMAS             696 non-null    int64         \n",
      " 2   FECHA                  696 non-null    datetime64[ns]\n",
      " 3   AAAA                   696 non-null    int64         \n",
      " 4   MM                     696 non-null    int64         \n",
      " 5   DD                     696 non-null    int64         \n",
      " 6   HORA                   696 non-null    object        \n",
      " 7   HH                     696 non-null    object        \n",
      " 8   LUGAR_DEL_HECHO        696 non-null    object        \n",
      " 9   TIPO_DE_CALLE          696 non-null    object        \n",
      " 10  Calle                  695 non-null    object        \n",
      " 11  Altura                 129 non-null    float64       \n",
      " 12  Cruce                  525 non-null    object        \n",
      " 13  Dirección Normalizada  688 non-null    object        \n",
      " 14  COMUNA                 696 non-null    int64         \n",
      " 15  XY (CABA)              696 non-null    object        \n",
      " 16  pos x                  696 non-null    object        \n",
      " 17  pos y                  696 non-null    object        \n",
      " 18  PARTICIPANTES          696 non-null    object        \n",
      " 19  VICTIMA                696 non-null    object        \n",
      " 20  ACUSADO                696 non-null    object        \n",
      "dtypes: datetime64[ns](1), float64(1), int64(5), object(14)\n",
      "memory usage: 114.3+ KB\n"
     ]
    }
   ],
   "source": [
    "df_homicides.info()"
   ]
  },
  {
   "cell_type": "code",
   "execution_count": 7,
   "metadata": {},
   "outputs": [
    {
     "name": "stdout",
     "output_type": "stream",
     "text": [
      "Your selected dataframe has 21 columns.\n",
      "There are 4 columns that have missing values.\n"
     ]
    },
    {
     "data": {
      "text/html": [
       "<div>\n",
       "<style scoped>\n",
       "    .dataframe tbody tr th:only-of-type {\n",
       "        vertical-align: middle;\n",
       "    }\n",
       "\n",
       "    .dataframe tbody tr th {\n",
       "        vertical-align: top;\n",
       "    }\n",
       "\n",
       "    .dataframe thead th {\n",
       "        text-align: right;\n",
       "    }\n",
       "</style>\n",
       "<table border=\"1\" class=\"dataframe\">\n",
       "  <thead>\n",
       "    <tr style=\"text-align: right;\">\n",
       "      <th></th>\n",
       "      <th>Missing Values</th>\n",
       "      <th>% of Total Values</th>\n",
       "    </tr>\n",
       "  </thead>\n",
       "  <tbody>\n",
       "    <tr>\n",
       "      <th>Altura</th>\n",
       "      <td>567</td>\n",
       "      <td>81.5</td>\n",
       "    </tr>\n",
       "    <tr>\n",
       "      <th>Cruce</th>\n",
       "      <td>171</td>\n",
       "      <td>24.6</td>\n",
       "    </tr>\n",
       "    <tr>\n",
       "      <th>Dirección Normalizada</th>\n",
       "      <td>8</td>\n",
       "      <td>1.1</td>\n",
       "    </tr>\n",
       "    <tr>\n",
       "      <th>Calle</th>\n",
       "      <td>1</td>\n",
       "      <td>0.1</td>\n",
       "    </tr>\n",
       "  </tbody>\n",
       "</table>\n",
       "</div>"
      ],
      "text/plain": [
       "                       Missing Values  % of Total Values\n",
       "Altura                            567               81.5\n",
       "Cruce                             171               24.6\n",
       "Dirección Normalizada               8                1.1\n",
       "Calle                               1                0.1"
      ]
     },
     "execution_count": 7,
     "metadata": {},
     "output_type": "execute_result"
    }
   ],
   "source": [
    "missing_values_table(df_homicides)"
   ]
  },
  {
   "cell_type": "code",
   "execution_count": 8,
   "metadata": {},
   "outputs": [
    {
     "data": {
      "text/html": [
       "<div>\n",
       "<style scoped>\n",
       "    .dataframe tbody tr th:only-of-type {\n",
       "        vertical-align: middle;\n",
       "    }\n",
       "\n",
       "    .dataframe tbody tr th {\n",
       "        vertical-align: top;\n",
       "    }\n",
       "\n",
       "    .dataframe thead th {\n",
       "        text-align: right;\n",
       "    }\n",
       "</style>\n",
       "<table border=\"1\" class=\"dataframe\">\n",
       "  <thead>\n",
       "    <tr style=\"text-align: right;\">\n",
       "      <th></th>\n",
       "      <th>ID</th>\n",
       "      <th>N_VICTIMAS</th>\n",
       "      <th>FECHA</th>\n",
       "      <th>AAAA</th>\n",
       "      <th>MM</th>\n",
       "      <th>DD</th>\n",
       "      <th>HORA</th>\n",
       "      <th>HH</th>\n",
       "      <th>LUGAR_DEL_HECHO</th>\n",
       "      <th>TIPO_DE_CALLE</th>\n",
       "      <th>Calle</th>\n",
       "      <th>Altura</th>\n",
       "      <th>Cruce</th>\n",
       "      <th>Dirección Normalizada</th>\n",
       "      <th>COMUNA</th>\n",
       "      <th>XY (CABA)</th>\n",
       "      <th>pos x</th>\n",
       "      <th>pos y</th>\n",
       "      <th>PARTICIPANTES</th>\n",
       "      <th>VICTIMA</th>\n",
       "      <th>ACUSADO</th>\n",
       "    </tr>\n",
       "  </thead>\n",
       "  <tbody>\n",
       "    <tr>\n",
       "      <th>119</th>\n",
       "      <td>2016-0151</td>\n",
       "      <td>1</td>\n",
       "      <td>2016-11-18</td>\n",
       "      <td>2016</td>\n",
       "      <td>11</td>\n",
       "      <td>18</td>\n",
       "      <td>20:35:00</td>\n",
       "      <td>20</td>\n",
       "      <td>SD</td>\n",
       "      <td>CALLE</td>\n",
       "      <td>NaN</td>\n",
       "      <td>NaN</td>\n",
       "      <td>NaN</td>\n",
       "      <td>NaN</td>\n",
       "      <td>0</td>\n",
       "      <td>Point (. .)</td>\n",
       "      <td>.</td>\n",
       "      <td>.</td>\n",
       "      <td>PEATON-SD</td>\n",
       "      <td>PEATON</td>\n",
       "      <td>SD</td>\n",
       "    </tr>\n",
       "  </tbody>\n",
       "</table>\n",
       "</div>"
      ],
      "text/plain": [
       "            ID  N_VICTIMAS      FECHA  AAAA  MM  DD      HORA  HH   \n",
       "119  2016-0151           1 2016-11-18  2016  11  18  20:35:00  20  \\\n",
       "\n",
       "    LUGAR_DEL_HECHO TIPO_DE_CALLE Calle  Altura Cruce Dirección Normalizada   \n",
       "119              SD         CALLE   NaN     NaN   NaN                   NaN  \\\n",
       "\n",
       "     COMUNA    XY (CABA) pos x pos y PARTICIPANTES VICTIMA ACUSADO  \n",
       "119       0  Point (. .)     .     .     PEATON-SD  PEATON      SD  "
      ]
     },
     "execution_count": 8,
     "metadata": {},
     "output_type": "execute_result"
    }
   ],
   "source": [
    "df_homicides[df_homicides[\"Calle\"].isna()]"
   ]
  },
  {
   "cell_type": "code",
   "execution_count": 9,
   "metadata": {},
   "outputs": [
    {
     "data": {
      "text/plain": [
       "Index(['ID', 'N_VICTIMAS', 'FECHA', 'AAAA', 'MM', 'DD', 'HORA', 'HH',\n",
       "       'LUGAR_DEL_HECHO', 'TIPO_DE_CALLE', 'Calle', 'Altura', 'Cruce',\n",
       "       'Dirección Normalizada', 'COMUNA', 'XY (CABA)', 'pos x', 'pos y',\n",
       "       'PARTICIPANTES', 'VICTIMA', 'ACUSADO'],\n",
       "      dtype='object')"
      ]
     },
     "execution_count": 9,
     "metadata": {},
     "output_type": "execute_result"
    }
   ],
   "source": [
    "df_homicides.columns"
   ]
  },
  {
   "cell_type": "code",
   "execution_count": 10,
   "metadata": {},
   "outputs": [
    {
     "data": {
      "text/plain": [
       "array([4, 1, 7, 0, 5, 18, 19, 15, 11, 22, 16, 9, 23, 6, 10, 17, 12, 8, 20,\n",
       "       21, 14, 3, 2, 13, 'SD'], dtype=object)"
      ]
     },
     "execution_count": 10,
     "metadata": {},
     "output_type": "execute_result"
    }
   ],
   "source": [
    "df_homicides[\"HH\"].unique() #tenemos SD en este df"
   ]
  },
  {
   "cell_type": "code",
   "execution_count": 11,
   "metadata": {},
   "outputs": [
    {
     "data": {
      "text/plain": [
       "array(['MOTO', 'AUTO', 'PEATON', 'SD', 'CARGAS', 'BICICLETA', 'PASAJEROS',\n",
       "       'MOVIL', 'OBJETO FIJO', 'PEATON_MOTO'], dtype=object)"
      ]
     },
     "execution_count": 11,
     "metadata": {},
     "output_type": "execute_result"
    }
   ],
   "source": [
    "df_homicides[\"VICTIMA\"].unique()"
   ]
  },
  {
   "cell_type": "code",
   "execution_count": 12,
   "metadata": {},
   "outputs": [
    {
     "data": {
      "text/plain": [
       "ID                       9\n",
       "N_VICTIMAS               9\n",
       "FECHA                    9\n",
       "AAAA                     9\n",
       "MM                       9\n",
       "DD                       9\n",
       "HORA                     9\n",
       "HH                       9\n",
       "LUGAR_DEL_HECHO          9\n",
       "TIPO_DE_CALLE            9\n",
       "Calle                    9\n",
       "Altura                   3\n",
       "Cruce                    4\n",
       "Dirección Normalizada    9\n",
       "COMUNA                   9\n",
       "XY (CABA)                9\n",
       "pos x                    9\n",
       "pos y                    9\n",
       "PARTICIPANTES            9\n",
       "VICTIMA                  9\n",
       "ACUSADO                  9\n",
       "dtype: int64"
      ]
     },
     "execution_count": 12,
     "metadata": {},
     "output_type": "execute_result"
    }
   ],
   "source": [
    "df_homicides[df_homicides[\"VICTIMA\"] == \"SD\"].count()\n"
   ]
  },
  {
   "cell_type": "code",
   "execution_count": 13,
   "metadata": {},
   "outputs": [
    {
     "data": {
      "text/plain": [
       "ID                       23\n",
       "N_VICTIMAS               23\n",
       "FECHA                    23\n",
       "AAAA                     23\n",
       "MM                       23\n",
       "DD                       23\n",
       "HORA                     23\n",
       "HH                       23\n",
       "LUGAR_DEL_HECHO          23\n",
       "TIPO_DE_CALLE            23\n",
       "Calle                    22\n",
       "Altura                    2\n",
       "Cruce                    17\n",
       "Dirección Normalizada    21\n",
       "COMUNA                   23\n",
       "XY (CABA)                23\n",
       "pos x                    23\n",
       "pos y                    23\n",
       "PARTICIPANTES            23\n",
       "VICTIMA                  23\n",
       "ACUSADO                  23\n",
       "dtype: int64"
      ]
     },
     "execution_count": 13,
     "metadata": {},
     "output_type": "execute_result"
    }
   ],
   "source": [
    "df_homicides[df_homicides[\"ACUSADO\"] == \"SD\"].count()"
   ]
  },
  {
   "cell_type": "code",
   "execution_count": 14,
   "metadata": {},
   "outputs": [
    {
     "data": {
      "text/html": [
       "<div>\n",
       "<style scoped>\n",
       "    .dataframe tbody tr th:only-of-type {\n",
       "        vertical-align: middle;\n",
       "    }\n",
       "\n",
       "    .dataframe tbody tr th {\n",
       "        vertical-align: top;\n",
       "    }\n",
       "\n",
       "    .dataframe thead th {\n",
       "        text-align: right;\n",
       "    }\n",
       "</style>\n",
       "<table border=\"1\" class=\"dataframe\">\n",
       "  <thead>\n",
       "    <tr style=\"text-align: right;\">\n",
       "      <th></th>\n",
       "      <th>ID</th>\n",
       "      <th>N_VICTIMAS</th>\n",
       "      <th>FECHA</th>\n",
       "      <th>AAAA</th>\n",
       "      <th>MM</th>\n",
       "      <th>DD</th>\n",
       "      <th>HORA</th>\n",
       "      <th>HH</th>\n",
       "      <th>LUGAR_DEL_HECHO</th>\n",
       "      <th>TIPO_DE_CALLE</th>\n",
       "      <th>Calle</th>\n",
       "      <th>Altura</th>\n",
       "      <th>Cruce</th>\n",
       "      <th>Dirección Normalizada</th>\n",
       "      <th>COMUNA</th>\n",
       "      <th>XY (CABA)</th>\n",
       "      <th>pos x</th>\n",
       "      <th>pos y</th>\n",
       "      <th>PARTICIPANTES</th>\n",
       "      <th>VICTIMA</th>\n",
       "      <th>ACUSADO</th>\n",
       "    </tr>\n",
       "  </thead>\n",
       "  <tbody>\n",
       "  </tbody>\n",
       "</table>\n",
       "</div>"
      ],
      "text/plain": [
       "Empty DataFrame\n",
       "Columns: [ID, N_VICTIMAS, FECHA, AAAA, MM, DD, HORA, HH, LUGAR_DEL_HECHO, TIPO_DE_CALLE, Calle, Altura, Cruce, Dirección Normalizada, COMUNA, XY (CABA), pos x, pos y, PARTICIPANTES, VICTIMA, ACUSADO]\n",
       "Index: []"
      ]
     },
     "execution_count": 14,
     "metadata": {},
     "output_type": "execute_result"
    }
   ],
   "source": [
    "df_homicides[df_homicides[\"ID\"].duplicated()]"
   ]
  },
  {
   "cell_type": "code",
   "execution_count": 15,
   "metadata": {},
   "outputs": [
    {
     "data": {
      "text/plain": [
       "TIPO_DE_CALLE\n",
       "AVENIDA      429\n",
       "CALLE        136\n",
       "AUTOPISTA     66\n",
       "GRAL PAZ      65\n",
       "Name: count, dtype: int64"
      ]
     },
     "execution_count": 15,
     "metadata": {},
     "output_type": "execute_result"
    }
   ],
   "source": [
    "df_homicides[\"TIPO_DE_CALLE\"].value_counts()"
   ]
  },
  {
   "cell_type": "code",
   "execution_count": 16,
   "metadata": {},
   "outputs": [
    {
     "data": {
      "text/plain": [
       "HH\n",
       "7     41\n",
       "6     40\n",
       "9     36\n",
       "5     35\n",
       "14    33\n",
       "12    32\n",
       "8     31\n",
       "18    31\n",
       "10    31\n",
       "16    30\n",
       "19    30\n",
       "17    30\n",
       "22    30\n",
       "21    29\n",
       "23    28\n",
       "11    27\n",
       "3     26\n",
       "20    26\n",
       "15    25\n",
       "1     24\n",
       "Name: count, dtype: int64"
      ]
     },
     "execution_count": 16,
     "metadata": {},
     "output_type": "execute_result"
    }
   ],
   "source": [
    "df_homicides[\"HH\"].value_counts().head(20)"
   ]
  },
  {
   "cell_type": "code",
   "execution_count": 17,
   "metadata": {},
   "outputs": [
    {
     "data": {
      "text/plain": [
       "PARTICIPANTES\n",
       "PEATON-PASAJEROS    105\n",
       "MOTO-AUTO            83\n",
       "MOTO-CARGAS          78\n",
       "PEATON-AUTO          77\n",
       "MOTO-PASAJEROS       46\n",
       "MOTO-OBJETO FIJO     40\n",
       "PEATON-CARGAS        38\n",
       "AUTO-AUTO            31\n",
       "PEATON-MOTO          30\n",
       "MOTO-MOTO            25\n",
       "Name: count, dtype: int64"
      ]
     },
     "execution_count": 17,
     "metadata": {},
     "output_type": "execute_result"
    }
   ],
   "source": [
    "df_homicides[\"PARTICIPANTES\"].value_counts().head(10)"
   ]
  },
  {
   "cell_type": "code",
   "execution_count": 18,
   "metadata": {},
   "outputs": [
    {
     "data": {
      "text/plain": [
       "VICTIMA\n",
       "MOTO           295\n",
       "PEATON         264\n",
       "AUTO            83\n",
       "BICICLETA       29\n",
       "SD               9\n",
       "CARGAS           7\n",
       "PASAJEROS        5\n",
       "MOVIL            2\n",
       "OBJETO FIJO      1\n",
       "PEATON_MOTO      1\n",
       "Name: count, dtype: int64"
      ]
     },
     "execution_count": 18,
     "metadata": {},
     "output_type": "execute_result"
    }
   ],
   "source": [
    "df_homicides[\"VICTIMA\"].value_counts().head(10)"
   ]
  },
  {
   "cell_type": "markdown",
   "metadata": {},
   "source": [
    "### **Primeras conclusiones:**\n",
    "\n",
    "\n",
    "- El dataframe ya está casi listo para usarlo para análisis:\n",
    "  - Tenemos una columna entera dedicada a **fecha**, por lo que las columnas \"AAAA\", \"MM\" \"DD\" no nos son relevantes. Podemos acceder a esos datos diferenciados con funciones de DAX.\n",
    "  - El **ID de los accidentes** está con el siguiente formato: 2016-0001 donde 2016 hace referencia al año y 0001 al número de accidente de ese año. Lo podemos normalizar eliminando el guion del medio.\n",
    "  - Tenemos algunos datos perdidos, pero no nos resultan relevantes. Son más que nada de **dirección** y ya poseemos la geolocalización de los mismos (punto solo aplicable para la visualización en mapas).\n",
    "  - También tenemos la columna \"**LUGAR_DEL_HECHO**\" donde tenemos una dirección. Esta dirección se conforma primero por un nombre de una calle y seguido de un número. En caso de que sea una intersección se utiliza \"**Y**\" en el medio de las dos calles, apuntando que es una esquina. En estos casos no tenemos especificado un número en la columna \"**Altura**\", por lo que los datos faltantes de esta columna \"**altura**\" no quieren decir una carga deficiente, sino que quieren decir que fue en una intersección de dos calles. De esta forma podemos sacar datos importantes incluso donde no nos tenemos.\n",
    "  - No existen valores **duplicados**.\n",
    "  - La gran mayoria de los accidentes que terminan en un homicidio son en avenidas. e intersecciones de las mismas"
   ]
  },
  {
   "cell_type": "markdown",
   "metadata": {},
   "source": [
    "## Normalizaciones"
   ]
  },
  {
   "cell_type": "code",
   "execution_count": 19,
   "metadata": {},
   "outputs": [],
   "source": [
    "#eliminamos el guion central de la columna ID para luego poder utilizarla como ID en my motor SQL\n",
    "df_homicides['ID'] = df_homicides['ID'].str.replace('-', '')"
   ]
  },
  {
   "cell_type": "code",
   "execution_count": 20,
   "metadata": {},
   "outputs": [
    {
     "data": {
      "text/html": [
       "<div>\n",
       "<style scoped>\n",
       "    .dataframe tbody tr th:only-of-type {\n",
       "        vertical-align: middle;\n",
       "    }\n",
       "\n",
       "    .dataframe tbody tr th {\n",
       "        vertical-align: top;\n",
       "    }\n",
       "\n",
       "    .dataframe thead th {\n",
       "        text-align: right;\n",
       "    }\n",
       "</style>\n",
       "<table border=\"1\" class=\"dataframe\">\n",
       "  <thead>\n",
       "    <tr style=\"text-align: right;\">\n",
       "      <th></th>\n",
       "      <th>ID</th>\n",
       "      <th>N_VICTIMAS</th>\n",
       "      <th>FECHA</th>\n",
       "      <th>AAAA</th>\n",
       "      <th>MM</th>\n",
       "      <th>DD</th>\n",
       "      <th>HORA</th>\n",
       "      <th>HH</th>\n",
       "      <th>LUGAR_DEL_HECHO</th>\n",
       "      <th>TIPO_DE_CALLE</th>\n",
       "      <th>Calle</th>\n",
       "      <th>Altura</th>\n",
       "      <th>Cruce</th>\n",
       "      <th>Dirección Normalizada</th>\n",
       "      <th>COMUNA</th>\n",
       "      <th>XY (CABA)</th>\n",
       "      <th>pos x</th>\n",
       "      <th>pos y</th>\n",
       "      <th>PARTICIPANTES</th>\n",
       "      <th>VICTIMA</th>\n",
       "      <th>ACUSADO</th>\n",
       "    </tr>\n",
       "  </thead>\n",
       "  <tbody>\n",
       "    <tr>\n",
       "      <th>0</th>\n",
       "      <td>20160001</td>\n",
       "      <td>1</td>\n",
       "      <td>2016-01-01</td>\n",
       "      <td>2016</td>\n",
       "      <td>1</td>\n",
       "      <td>1</td>\n",
       "      <td>04:00:00</td>\n",
       "      <td>4</td>\n",
       "      <td>AV PIEDRA BUENA Y AV FERNANDEZ DE LA CRUZ</td>\n",
       "      <td>AVENIDA</td>\n",
       "      <td>PIEDRA BUENA AV.</td>\n",
       "      <td>NaN</td>\n",
       "      <td>FERNANDEZ DE LA CRUZ, F., GRAL. AV.</td>\n",
       "      <td>PIEDRA BUENA AV. y FERNANDEZ DE LA CRUZ, F., G...</td>\n",
       "      <td>8</td>\n",
       "      <td>Point (98896.78238426 93532.43437792)</td>\n",
       "      <td>-58.47533969</td>\n",
       "      <td>-34.68757022</td>\n",
       "      <td>MOTO-AUTO</td>\n",
       "      <td>MOTO</td>\n",
       "      <td>AUTO</td>\n",
       "    </tr>\n",
       "    <tr>\n",
       "      <th>1</th>\n",
       "      <td>20160002</td>\n",
       "      <td>1</td>\n",
       "      <td>2016-01-02</td>\n",
       "      <td>2016</td>\n",
       "      <td>1</td>\n",
       "      <td>2</td>\n",
       "      <td>01:15:00</td>\n",
       "      <td>1</td>\n",
       "      <td>AV GRAL PAZ  Y AV DE LOS CORRALES</td>\n",
       "      <td>GRAL PAZ</td>\n",
       "      <td>PAZ, GRAL. AV.</td>\n",
       "      <td>NaN</td>\n",
       "      <td>DE LOS CORRALES AV.</td>\n",
       "      <td>PAZ, GRAL. AV. y DE LOS CORRALES AV.</td>\n",
       "      <td>9</td>\n",
       "      <td>Point (95832.05571093 95505.41641999)</td>\n",
       "      <td>-58.50877521</td>\n",
       "      <td>-34.66977709</td>\n",
       "      <td>AUTO-PASAJEROS</td>\n",
       "      <td>AUTO</td>\n",
       "      <td>PASAJEROS</td>\n",
       "    </tr>\n",
       "    <tr>\n",
       "      <th>2</th>\n",
       "      <td>20160003</td>\n",
       "      <td>1</td>\n",
       "      <td>2016-01-03</td>\n",
       "      <td>2016</td>\n",
       "      <td>1</td>\n",
       "      <td>3</td>\n",
       "      <td>07:00:00</td>\n",
       "      <td>7</td>\n",
       "      <td>AV ENTRE RIOS 2034</td>\n",
       "      <td>AVENIDA</td>\n",
       "      <td>ENTRE RIOS AV.</td>\n",
       "      <td>2034.0</td>\n",
       "      <td>NaN</td>\n",
       "      <td>ENTRE RIOS AV. 2034</td>\n",
       "      <td>1</td>\n",
       "      <td>Point (106684.29090040 99706.57687843)</td>\n",
       "      <td>-58.39040293</td>\n",
       "      <td>-34.63189362</td>\n",
       "      <td>MOTO-AUTO</td>\n",
       "      <td>MOTO</td>\n",
       "      <td>AUTO</td>\n",
       "    </tr>\n",
       "  </tbody>\n",
       "</table>\n",
       "</div>"
      ],
      "text/plain": [
       "         ID  N_VICTIMAS      FECHA  AAAA  MM  DD      HORA HH   \n",
       "0  20160001           1 2016-01-01  2016   1   1  04:00:00  4  \\\n",
       "1  20160002           1 2016-01-02  2016   1   2  01:15:00  1   \n",
       "2  20160003           1 2016-01-03  2016   1   3  07:00:00  7   \n",
       "\n",
       "                             LUGAR_DEL_HECHO TIPO_DE_CALLE             Calle   \n",
       "0  AV PIEDRA BUENA Y AV FERNANDEZ DE LA CRUZ       AVENIDA  PIEDRA BUENA AV.  \\\n",
       "1          AV GRAL PAZ  Y AV DE LOS CORRALES      GRAL PAZ    PAZ, GRAL. AV.   \n",
       "2                         AV ENTRE RIOS 2034       AVENIDA    ENTRE RIOS AV.   \n",
       "\n",
       "   Altura                                Cruce   \n",
       "0     NaN  FERNANDEZ DE LA CRUZ, F., GRAL. AV.  \\\n",
       "1     NaN                  DE LOS CORRALES AV.   \n",
       "2  2034.0                                  NaN   \n",
       "\n",
       "                               Dirección Normalizada  COMUNA   \n",
       "0  PIEDRA BUENA AV. y FERNANDEZ DE LA CRUZ, F., G...       8  \\\n",
       "1               PAZ, GRAL. AV. y DE LOS CORRALES AV.       9   \n",
       "2                                ENTRE RIOS AV. 2034       1   \n",
       "\n",
       "                                XY (CABA)         pos x         pos y   \n",
       "0   Point (98896.78238426 93532.43437792)  -58.47533969  -34.68757022  \\\n",
       "1   Point (95832.05571093 95505.41641999)  -58.50877521  -34.66977709   \n",
       "2  Point (106684.29090040 99706.57687843)  -58.39040293  -34.63189362   \n",
       "\n",
       "    PARTICIPANTES VICTIMA    ACUSADO  \n",
       "0       MOTO-AUTO    MOTO       AUTO  \n",
       "1  AUTO-PASAJEROS    AUTO  PASAJEROS  \n",
       "2       MOTO-AUTO    MOTO       AUTO  "
      ]
     },
     "execution_count": 20,
     "metadata": {},
     "output_type": "execute_result"
    }
   ],
   "source": [
    "df_homicides.head(3)"
   ]
  },
  {
   "cell_type": "markdown",
   "metadata": {},
   "source": [
    "Decido quedarme solo con dos columnas que hacen referencia al momento del hecho (Fecha y Hora). Al tener menos columnas y evitar columnas redundantes se hace mas sencillo el analisis en general. Tambien voy a eliminar la columna \"XY (CABA)\" por el simple motivos de que para saber la ubicacion geografica de un punto ya tengo mi columna X e Y."
   ]
  },
  {
   "cell_type": "code",
   "execution_count": 21,
   "metadata": {},
   "outputs": [],
   "source": [
    "df_homicides.drop(columns=[\"AAAA\", \"MM\", \"DD\",\"HH\",\"XY (CABA)\"], inplace=True)"
   ]
  },
  {
   "cell_type": "code",
   "execution_count": 22,
   "metadata": {},
   "outputs": [
    {
     "data": {
      "text/html": [
       "<div>\n",
       "<style scoped>\n",
       "    .dataframe tbody tr th:only-of-type {\n",
       "        vertical-align: middle;\n",
       "    }\n",
       "\n",
       "    .dataframe tbody tr th {\n",
       "        vertical-align: top;\n",
       "    }\n",
       "\n",
       "    .dataframe thead th {\n",
       "        text-align: right;\n",
       "    }\n",
       "</style>\n",
       "<table border=\"1\" class=\"dataframe\">\n",
       "  <thead>\n",
       "    <tr style=\"text-align: right;\">\n",
       "      <th></th>\n",
       "      <th>ID</th>\n",
       "      <th>N_VICTIMAS</th>\n",
       "      <th>FECHA</th>\n",
       "      <th>HORA</th>\n",
       "      <th>LUGAR_DEL_HECHO</th>\n",
       "      <th>TIPO_DE_CALLE</th>\n",
       "      <th>Calle</th>\n",
       "      <th>Altura</th>\n",
       "      <th>Cruce</th>\n",
       "      <th>Dirección Normalizada</th>\n",
       "      <th>COMUNA</th>\n",
       "      <th>pos x</th>\n",
       "      <th>pos y</th>\n",
       "      <th>PARTICIPANTES</th>\n",
       "      <th>VICTIMA</th>\n",
       "      <th>ACUSADO</th>\n",
       "    </tr>\n",
       "  </thead>\n",
       "  <tbody>\n",
       "    <tr>\n",
       "      <th>0</th>\n",
       "      <td>20160001</td>\n",
       "      <td>1</td>\n",
       "      <td>2016-01-01</td>\n",
       "      <td>04:00:00</td>\n",
       "      <td>AV PIEDRA BUENA Y AV FERNANDEZ DE LA CRUZ</td>\n",
       "      <td>AVENIDA</td>\n",
       "      <td>PIEDRA BUENA AV.</td>\n",
       "      <td>NaN</td>\n",
       "      <td>FERNANDEZ DE LA CRUZ, F., GRAL. AV.</td>\n",
       "      <td>PIEDRA BUENA AV. y FERNANDEZ DE LA CRUZ, F., G...</td>\n",
       "      <td>8</td>\n",
       "      <td>-58.47533969</td>\n",
       "      <td>-34.68757022</td>\n",
       "      <td>MOTO-AUTO</td>\n",
       "      <td>MOTO</td>\n",
       "      <td>AUTO</td>\n",
       "    </tr>\n",
       "  </tbody>\n",
       "</table>\n",
       "</div>"
      ],
      "text/plain": [
       "         ID  N_VICTIMAS      FECHA      HORA   \n",
       "0  20160001           1 2016-01-01  04:00:00  \\\n",
       "\n",
       "                             LUGAR_DEL_HECHO TIPO_DE_CALLE             Calle   \n",
       "0  AV PIEDRA BUENA Y AV FERNANDEZ DE LA CRUZ       AVENIDA  PIEDRA BUENA AV.  \\\n",
       "\n",
       "   Altura                                Cruce   \n",
       "0     NaN  FERNANDEZ DE LA CRUZ, F., GRAL. AV.  \\\n",
       "\n",
       "                               Dirección Normalizada  COMUNA         pos x   \n",
       "0  PIEDRA BUENA AV. y FERNANDEZ DE LA CRUZ, F., G...       8  -58.47533969  \\\n",
       "\n",
       "          pos y PARTICIPANTES VICTIMA ACUSADO  \n",
       "0  -34.68757022     MOTO-AUTO    MOTO    AUTO  "
      ]
     },
     "execution_count": 22,
     "metadata": {},
     "output_type": "execute_result"
    }
   ],
   "source": [
    "df_homicides.head(1)"
   ]
  },
  {
   "cell_type": "markdown",
   "metadata": {},
   "source": [
    "Despues voy a reemplazar los valores nulos que tenemos dentro de la columna \"alura\" por \"INTERSECCION\""
   ]
  },
  {
   "cell_type": "code",
   "execution_count": 23,
   "metadata": {},
   "outputs": [],
   "source": [
    "condicion = ~df_homicides['Cruce'].isna()\n",
    "df_homicides.loc[condicion, 'Altura'] = 'INTERSECCION'"
   ]
  },
  {
   "cell_type": "code",
   "execution_count": 24,
   "metadata": {},
   "outputs": [
    {
     "data": {
      "text/html": [
       "<div>\n",
       "<style scoped>\n",
       "    .dataframe tbody tr th:only-of-type {\n",
       "        vertical-align: middle;\n",
       "    }\n",
       "\n",
       "    .dataframe tbody tr th {\n",
       "        vertical-align: top;\n",
       "    }\n",
       "\n",
       "    .dataframe thead th {\n",
       "        text-align: right;\n",
       "    }\n",
       "</style>\n",
       "<table border=\"1\" class=\"dataframe\">\n",
       "  <thead>\n",
       "    <tr style=\"text-align: right;\">\n",
       "      <th></th>\n",
       "      <th>ID</th>\n",
       "      <th>N_VICTIMAS</th>\n",
       "      <th>FECHA</th>\n",
       "      <th>HORA</th>\n",
       "      <th>LUGAR_DEL_HECHO</th>\n",
       "      <th>TIPO_DE_CALLE</th>\n",
       "      <th>Calle</th>\n",
       "      <th>Altura</th>\n",
       "      <th>Cruce</th>\n",
       "      <th>Dirección Normalizada</th>\n",
       "      <th>COMUNA</th>\n",
       "      <th>pos x</th>\n",
       "      <th>pos y</th>\n",
       "      <th>PARTICIPANTES</th>\n",
       "      <th>VICTIMA</th>\n",
       "      <th>ACUSADO</th>\n",
       "    </tr>\n",
       "  </thead>\n",
       "  <tbody>\n",
       "    <tr>\n",
       "      <th>35</th>\n",
       "      <td>20160049</td>\n",
       "      <td>1</td>\n",
       "      <td>2016-04-17</td>\n",
       "      <td>00:00:00</td>\n",
       "      <td>AUTOPISTA 1 SUR PRESIDENTE ARTURO FRONDIZI KM....</td>\n",
       "      <td>AUTOPISTA</td>\n",
       "      <td>AUTOPISTA 1 SUR PRESIDENTE ARTURO FRONDIZI</td>\n",
       "      <td>NaN</td>\n",
       "      <td>NaN</td>\n",
       "      <td>AUTOPISTA 1 SUR PRESIDENTE ARTURO FRONDIZI</td>\n",
       "      <td>4</td>\n",
       "      <td>-58.37714647568196</td>\n",
       "      <td>-34.63657525428238</td>\n",
       "      <td>SD-SD</td>\n",
       "      <td>SD</td>\n",
       "      <td>SD</td>\n",
       "    </tr>\n",
       "    <tr>\n",
       "      <th>38</th>\n",
       "      <td>20160052</td>\n",
       "      <td>1</td>\n",
       "      <td>2016-04-20</td>\n",
       "      <td>20:00:00</td>\n",
       "      <td>AUTOPISTA LUGONES PK 10000</td>\n",
       "      <td>AUTOPISTA</td>\n",
       "      <td>LUGONES, LEOPOLDO AV.</td>\n",
       "      <td>NaN</td>\n",
       "      <td>NaN</td>\n",
       "      <td>NaN</td>\n",
       "      <td>13</td>\n",
       "      <td>.</td>\n",
       "      <td>.</td>\n",
       "      <td>MOTO-SD</td>\n",
       "      <td>MOTO</td>\n",
       "      <td>SD</td>\n",
       "    </tr>\n",
       "    <tr>\n",
       "      <th>64</th>\n",
       "      <td>20160087</td>\n",
       "      <td>1</td>\n",
       "      <td>2016-07-02</td>\n",
       "      <td>00:10:00</td>\n",
       "      <td>AUTOPISTA 1 SUR PTE ARTURO FRONDIZI Y AV CASEROS</td>\n",
       "      <td>AUTOPISTA</td>\n",
       "      <td>AUTOPISTA 1 SUR PRESIDENTE ARTURO FRONDIZI</td>\n",
       "      <td>NaN</td>\n",
       "      <td>NaN</td>\n",
       "      <td>AUTOPISTA 1 SUR PRESIDENTE ARTURO FRONDIZI y C...</td>\n",
       "      <td>1</td>\n",
       "      <td>-58.37864583</td>\n",
       "      <td>-34.62907067</td>\n",
       "      <td>MOTO-OBJETO FIJO</td>\n",
       "      <td>MOTO</td>\n",
       "      <td>OBJETO FIJO</td>\n",
       "    </tr>\n",
       "    <tr>\n",
       "      <th>71</th>\n",
       "      <td>20160096</td>\n",
       "      <td>1</td>\n",
       "      <td>2016-07-25</td>\n",
       "      <td>07:00:00</td>\n",
       "      <td>AUTOPISTA DELLEPIANE LUIS TTE. GRAL. KM. 2,3</td>\n",
       "      <td>AUTOPISTA</td>\n",
       "      <td>AUTOPISTA DELLEPIANE LUIS TTE. GRAL.</td>\n",
       "      <td>NaN</td>\n",
       "      <td>NaN</td>\n",
       "      <td>AUTOPISTA DELLEPIANE LUIS TTE. GRAL.</td>\n",
       "      <td>8</td>\n",
       "      <td>-58.47433193007387</td>\n",
       "      <td>-34.66684950051973</td>\n",
       "      <td>MOTO-CARGAS</td>\n",
       "      <td>MOTO</td>\n",
       "      <td>CARGAS</td>\n",
       "    </tr>\n",
       "    <tr>\n",
       "      <th>81</th>\n",
       "      <td>20160107</td>\n",
       "      <td>1</td>\n",
       "      <td>2016-08-20</td>\n",
       "      <td>08:22:00</td>\n",
       "      <td>AUTOPISTA 9 DE JULIO SUR ALT AV MENDOZA</td>\n",
       "      <td>AUTOPISTA</td>\n",
       "      <td>AUTOPISTA 1 SUR PRESIDENTE ARTURO FRONDIZI</td>\n",
       "      <td>NaN</td>\n",
       "      <td>NaN</td>\n",
       "      <td>AUTOPISTA 1 SUR PRESIDENTE ARTURO FRONDIZI y D...</td>\n",
       "      <td>4</td>\n",
       "      <td>-58.37157668</td>\n",
       "      <td>-34.65429986</td>\n",
       "      <td>MOTO-AUTO</td>\n",
       "      <td>MOTO</td>\n",
       "      <td>AUTO</td>\n",
       "    </tr>\n",
       "  </tbody>\n",
       "</table>\n",
       "</div>"
      ],
      "text/plain": [
       "          ID  N_VICTIMAS      FECHA      HORA   \n",
       "35  20160049           1 2016-04-17  00:00:00  \\\n",
       "38  20160052           1 2016-04-20  20:00:00   \n",
       "64  20160087           1 2016-07-02  00:10:00   \n",
       "71  20160096           1 2016-07-25  07:00:00   \n",
       "81  20160107           1 2016-08-20  08:22:00   \n",
       "\n",
       "                                      LUGAR_DEL_HECHO TIPO_DE_CALLE   \n",
       "35  AUTOPISTA 1 SUR PRESIDENTE ARTURO FRONDIZI KM....     AUTOPISTA  \\\n",
       "38                         AUTOPISTA LUGONES PK 10000     AUTOPISTA   \n",
       "64   AUTOPISTA 1 SUR PTE ARTURO FRONDIZI Y AV CASEROS     AUTOPISTA   \n",
       "71       AUTOPISTA DELLEPIANE LUIS TTE. GRAL. KM. 2,3     AUTOPISTA   \n",
       "81            AUTOPISTA 9 DE JULIO SUR ALT AV MENDOZA     AUTOPISTA   \n",
       "\n",
       "                                         Calle Altura Cruce   \n",
       "35  AUTOPISTA 1 SUR PRESIDENTE ARTURO FRONDIZI    NaN   NaN  \\\n",
       "38                       LUGONES, LEOPOLDO AV.    NaN   NaN   \n",
       "64  AUTOPISTA 1 SUR PRESIDENTE ARTURO FRONDIZI    NaN   NaN   \n",
       "71        AUTOPISTA DELLEPIANE LUIS TTE. GRAL.    NaN   NaN   \n",
       "81  AUTOPISTA 1 SUR PRESIDENTE ARTURO FRONDIZI    NaN   NaN   \n",
       "\n",
       "                                Dirección Normalizada  COMUNA   \n",
       "35         AUTOPISTA 1 SUR PRESIDENTE ARTURO FRONDIZI       4  \\\n",
       "38                                                NaN      13   \n",
       "64  AUTOPISTA 1 SUR PRESIDENTE ARTURO FRONDIZI y C...       1   \n",
       "71               AUTOPISTA DELLEPIANE LUIS TTE. GRAL.       8   \n",
       "81  AUTOPISTA 1 SUR PRESIDENTE ARTURO FRONDIZI y D...       4   \n",
       "\n",
       "                 pos x               pos y     PARTICIPANTES VICTIMA   \n",
       "35  -58.37714647568196  -34.63657525428238             SD-SD      SD  \\\n",
       "38                   .                   .           MOTO-SD    MOTO   \n",
       "64        -58.37864583        -34.62907067  MOTO-OBJETO FIJO    MOTO   \n",
       "71  -58.47433193007387  -34.66684950051973       MOTO-CARGAS    MOTO   \n",
       "81        -58.37157668        -34.65429986         MOTO-AUTO    MOTO   \n",
       "\n",
       "        ACUSADO  \n",
       "35           SD  \n",
       "38           SD  \n",
       "64  OBJETO FIJO  \n",
       "71       CARGAS  \n",
       "81         AUTO  "
      ]
     },
     "execution_count": 24,
     "metadata": {},
     "output_type": "execute_result"
    }
   ],
   "source": [
    "df_homicides[df_homicides[\"Altura\"].isna()].head()"
   ]
  },
  {
   "cell_type": "markdown",
   "metadata": {},
   "source": [
    "Por ultimo para llenar los nulos de la columna \"Altura\" vemos que los restantes son todos accidentes que sucedieron en Autopistas, por este motivo carecen de numeracion. Decido llenar el resto de nulos la columna \"altura\" con la palabra \"AUTOPISTA\". De esta manera puedo obterner todos mis registros mas explicativos y un dataset aun mas limpio."
   ]
  },
  {
   "cell_type": "code",
   "execution_count": 25,
   "metadata": {},
   "outputs": [],
   "source": [
    "df_homicides[\"Altura\"] = df_homicides[\"Altura\"].fillna(\"AUTOPISTA\")\n",
    "df_homicides.drop(columns=\"Cruce\", inplace=True)"
   ]
  },
  {
   "cell_type": "markdown",
   "metadata": {},
   "source": [
    "Tenemos algunos registros los cuales no tenemos sus coordenadas"
   ]
  },
  {
   "cell_type": "code",
   "execution_count": 26,
   "metadata": {},
   "outputs": [
    {
     "data": {
      "text/plain": [
       "ID                       12\n",
       "N_VICTIMAS               12\n",
       "FECHA                    12\n",
       "HORA                     12\n",
       "LUGAR_DEL_HECHO          12\n",
       "TIPO_DE_CALLE            12\n",
       "Calle                    11\n",
       "Altura                   12\n",
       "Dirección Normalizada     4\n",
       "COMUNA                   12\n",
       "pos x                    12\n",
       "pos y                    12\n",
       "PARTICIPANTES            12\n",
       "VICTIMA                  12\n",
       "ACUSADO                  12\n",
       "dtype: int64"
      ]
     },
     "execution_count": 26,
     "metadata": {},
     "output_type": "execute_result"
    }
   ],
   "source": [
    "df_homicides[df_homicides[\"pos x\"] == \".\"].count() "
   ]
  },
  {
   "cell_type": "code",
   "execution_count": 27,
   "metadata": {},
   "outputs": [
    {
     "data": {
      "text/html": [
       "<div>\n",
       "<style scoped>\n",
       "    .dataframe tbody tr th:only-of-type {\n",
       "        vertical-align: middle;\n",
       "    }\n",
       "\n",
       "    .dataframe tbody tr th {\n",
       "        vertical-align: top;\n",
       "    }\n",
       "\n",
       "    .dataframe thead th {\n",
       "        text-align: right;\n",
       "    }\n",
       "</style>\n",
       "<table border=\"1\" class=\"dataframe\">\n",
       "  <thead>\n",
       "    <tr style=\"text-align: right;\">\n",
       "      <th></th>\n",
       "      <th>ID</th>\n",
       "      <th>N_VICTIMAS</th>\n",
       "      <th>FECHA</th>\n",
       "      <th>HORA</th>\n",
       "      <th>LUGAR_DEL_HECHO</th>\n",
       "      <th>TIPO_DE_CALLE</th>\n",
       "      <th>Calle</th>\n",
       "      <th>Altura</th>\n",
       "      <th>Dirección Normalizada</th>\n",
       "      <th>COMUNA</th>\n",
       "      <th>pos x</th>\n",
       "      <th>pos y</th>\n",
       "      <th>PARTICIPANTES</th>\n",
       "      <th>VICTIMA</th>\n",
       "      <th>ACUSADO</th>\n",
       "    </tr>\n",
       "  </thead>\n",
       "  <tbody>\n",
       "    <tr>\n",
       "      <th>38</th>\n",
       "      <td>20160052</td>\n",
       "      <td>1</td>\n",
       "      <td>2016-04-20</td>\n",
       "      <td>20:00:00</td>\n",
       "      <td>AUTOPISTA LUGONES PK 10000</td>\n",
       "      <td>AUTOPISTA</td>\n",
       "      <td>LUGONES, LEOPOLDO AV.</td>\n",
       "      <td>AUTOPISTA</td>\n",
       "      <td>NaN</td>\n",
       "      <td>13</td>\n",
       "      <td>.</td>\n",
       "      <td>.</td>\n",
       "      <td>MOTO-SD</td>\n",
       "      <td>MOTO</td>\n",
       "      <td>SD</td>\n",
       "    </tr>\n",
       "    <tr>\n",
       "      <th>106</th>\n",
       "      <td>20160136</td>\n",
       "      <td>1</td>\n",
       "      <td>2016-10-25</td>\n",
       "      <td>00:00:00</td>\n",
       "      <td>AU BUENOS AIRES - LA PLATA KM. 4</td>\n",
       "      <td>AUTOPISTA</td>\n",
       "      <td>AUTOPISTA BUENOS AIRES - LA PLATA</td>\n",
       "      <td>AUTOPISTA</td>\n",
       "      <td>NaN</td>\n",
       "      <td>4</td>\n",
       "      <td>.</td>\n",
       "      <td>.</td>\n",
       "      <td>MOTO-CARGAS</td>\n",
       "      <td>MOTO</td>\n",
       "      <td>CARGAS</td>\n",
       "    </tr>\n",
       "    <tr>\n",
       "      <th>119</th>\n",
       "      <td>20160151</td>\n",
       "      <td>1</td>\n",
       "      <td>2016-11-18</td>\n",
       "      <td>20:35:00</td>\n",
       "      <td>SD</td>\n",
       "      <td>CALLE</td>\n",
       "      <td>NaN</td>\n",
       "      <td>AUTOPISTA</td>\n",
       "      <td>NaN</td>\n",
       "      <td>0</td>\n",
       "      <td>.</td>\n",
       "      <td>.</td>\n",
       "      <td>PEATON-SD</td>\n",
       "      <td>PEATON</td>\n",
       "      <td>SD</td>\n",
       "    </tr>\n",
       "    <tr>\n",
       "      <th>139</th>\n",
       "      <td>20160174</td>\n",
       "      <td>1</td>\n",
       "      <td>2016-12-27</td>\n",
       "      <td>00:00:00</td>\n",
       "      <td>AUTOPISTA 25 DE MAYO</td>\n",
       "      <td>AUTOPISTA</td>\n",
       "      <td>AUTOPISTA 25 DE MAYO</td>\n",
       "      <td>AUTOPISTA</td>\n",
       "      <td>AUTOPISTA 25 DE MAYO</td>\n",
       "      <td>0</td>\n",
       "      <td>.</td>\n",
       "      <td>.</td>\n",
       "      <td>SD-SD</td>\n",
       "      <td>SD</td>\n",
       "      <td>SD</td>\n",
       "    </tr>\n",
       "    <tr>\n",
       "      <th>176</th>\n",
       "      <td>20170042</td>\n",
       "      <td>1</td>\n",
       "      <td>2017-04-10</td>\n",
       "      <td>09:00:00</td>\n",
       "      <td>AV. LEOPOLDO LUGONES PKM 6900</td>\n",
       "      <td>GRAL PAZ</td>\n",
       "      <td>LUGONES, LEOPOLDO AV.</td>\n",
       "      <td>AUTOPISTA</td>\n",
       "      <td>LUGONES, LEOPOLDO AV.</td>\n",
       "      <td>14</td>\n",
       "      <td>.</td>\n",
       "      <td>.</td>\n",
       "      <td>MOTO-CARGAS</td>\n",
       "      <td>MOTO</td>\n",
       "      <td>CARGAS</td>\n",
       "    </tr>\n",
       "    <tr>\n",
       "      <th>180</th>\n",
       "      <td>20170050</td>\n",
       "      <td>2</td>\n",
       "      <td>2017-04-28</td>\n",
       "      <td>11:08:08</td>\n",
       "      <td>AU PERITO MORENO Y RAMAL ENLACE AU1/AU6</td>\n",
       "      <td>AUTOPISTA</td>\n",
       "      <td>AUTOPISTA PERITO MORENO</td>\n",
       "      <td>AUTOPISTA</td>\n",
       "      <td>NaN</td>\n",
       "      <td>9</td>\n",
       "      <td>.</td>\n",
       "      <td>.</td>\n",
       "      <td>MOTO-CARGAS</td>\n",
       "      <td>MOTO</td>\n",
       "      <td>CARGAS</td>\n",
       "    </tr>\n",
       "    <tr>\n",
       "      <th>181</th>\n",
       "      <td>20170051</td>\n",
       "      <td>1</td>\n",
       "      <td>2017-05-01</td>\n",
       "      <td>03:47:47</td>\n",
       "      <td>AU DELLEPIANE 2400</td>\n",
       "      <td>AUTOPISTA</td>\n",
       "      <td>AUTOPISTA DELLEPIANE LUIS TTE. GRAL.</td>\n",
       "      <td>AUTOPISTA</td>\n",
       "      <td>NaN</td>\n",
       "      <td>7</td>\n",
       "      <td>.</td>\n",
       "      <td>.</td>\n",
       "      <td>AUTO-AUTO</td>\n",
       "      <td>AUTO</td>\n",
       "      <td>AUTO</td>\n",
       "    </tr>\n",
       "    <tr>\n",
       "      <th>256</th>\n",
       "      <td>20170140</td>\n",
       "      <td>1</td>\n",
       "      <td>2017-11-19</td>\n",
       "      <td>23:22:17</td>\n",
       "      <td>AU ARTURO FRONDIZI PKM 3100</td>\n",
       "      <td>AUTOPISTA</td>\n",
       "      <td>AUTOPISTA 1 SUR PRESIDENTE ARTURO FRONDIZI</td>\n",
       "      <td>AUTOPISTA</td>\n",
       "      <td>AUTOPISTA 1 SUR PRESIDENTE ARTURO FRONDIZI</td>\n",
       "      <td>4</td>\n",
       "      <td>.</td>\n",
       "      <td>.</td>\n",
       "      <td>MOTO-PASAJEROS</td>\n",
       "      <td>MOTO</td>\n",
       "      <td>PASAJEROS</td>\n",
       "    </tr>\n",
       "    <tr>\n",
       "      <th>313</th>\n",
       "      <td>20180039</td>\n",
       "      <td>1</td>\n",
       "      <td>2018-04-21</td>\n",
       "      <td>22:15:00</td>\n",
       "      <td>AUTOPISTA LUGONES KM 4.7</td>\n",
       "      <td>AUTOPISTA</td>\n",
       "      <td>LUGONES, LEOPOLDO AV.</td>\n",
       "      <td>AUTOPISTA</td>\n",
       "      <td>NaN</td>\n",
       "      <td>14</td>\n",
       "      <td>.</td>\n",
       "      <td>.</td>\n",
       "      <td>PEATON-AUTO</td>\n",
       "      <td>PEATON</td>\n",
       "      <td>AUTO</td>\n",
       "    </tr>\n",
       "    <tr>\n",
       "      <th>546</th>\n",
       "      <td>20200026</td>\n",
       "      <td>1</td>\n",
       "      <td>2020-05-17</td>\n",
       "      <td>06:40:00</td>\n",
       "      <td>LUGONES, LEOPOLDO AV. KM 6,1</td>\n",
       "      <td>AUTOPISTA</td>\n",
       "      <td>LUGONES, LEOPOLDO AV.</td>\n",
       "      <td>AUTOPISTA</td>\n",
       "      <td>NaN</td>\n",
       "      <td>14</td>\n",
       "      <td>.</td>\n",
       "      <td>.</td>\n",
       "      <td>MOTO-OBJETO FIJO</td>\n",
       "      <td>MOTO</td>\n",
       "      <td>OBJETO FIJO</td>\n",
       "    </tr>\n",
       "    <tr>\n",
       "      <th>559</th>\n",
       "      <td>20200039</td>\n",
       "      <td>1</td>\n",
       "      <td>2020-09-01</td>\n",
       "      <td>19:17:42</td>\n",
       "      <td>MURGUIONDO 2700</td>\n",
       "      <td>CALLE</td>\n",
       "      <td>MURGUIONDO</td>\n",
       "      <td>AUTOPISTA</td>\n",
       "      <td>MURGUIONDO</td>\n",
       "      <td>9</td>\n",
       "      <td>.</td>\n",
       "      <td>.</td>\n",
       "      <td>PEATON-CARGAS</td>\n",
       "      <td>PEATON</td>\n",
       "      <td>CARGAS</td>\n",
       "    </tr>\n",
       "    <tr>\n",
       "      <th>621</th>\n",
       "      <td>20210023</td>\n",
       "      <td>1</td>\n",
       "      <td>2021-03-01</td>\n",
       "      <td>09:20:00</td>\n",
       "      <td>AU BUENOS AIRES LA PLATA  KM 4,5</td>\n",
       "      <td>AUTOPISTA</td>\n",
       "      <td>AUTOPISTA BUENOS AIRES - LA PLATA</td>\n",
       "      <td>AUTOPISTA</td>\n",
       "      <td>NaN</td>\n",
       "      <td>4</td>\n",
       "      <td>.</td>\n",
       "      <td>.</td>\n",
       "      <td>MOTO-CARGAS</td>\n",
       "      <td>MOTO</td>\n",
       "      <td>CARGAS</td>\n",
       "    </tr>\n",
       "  </tbody>\n",
       "</table>\n",
       "</div>"
      ],
      "text/plain": [
       "           ID  N_VICTIMAS      FECHA      HORA   \n",
       "38   20160052           1 2016-04-20  20:00:00  \\\n",
       "106  20160136           1 2016-10-25  00:00:00   \n",
       "119  20160151           1 2016-11-18  20:35:00   \n",
       "139  20160174           1 2016-12-27  00:00:00   \n",
       "176  20170042           1 2017-04-10  09:00:00   \n",
       "180  20170050           2 2017-04-28  11:08:08   \n",
       "181  20170051           1 2017-05-01  03:47:47   \n",
       "256  20170140           1 2017-11-19  23:22:17   \n",
       "313  20180039           1 2018-04-21  22:15:00   \n",
       "546  20200026           1 2020-05-17  06:40:00   \n",
       "559  20200039           1 2020-09-01  19:17:42   \n",
       "621  20210023           1 2021-03-01  09:20:00   \n",
       "\n",
       "                             LUGAR_DEL_HECHO TIPO_DE_CALLE   \n",
       "38                AUTOPISTA LUGONES PK 10000     AUTOPISTA  \\\n",
       "106         AU BUENOS AIRES - LA PLATA KM. 4     AUTOPISTA   \n",
       "119                                       SD         CALLE   \n",
       "139                     AUTOPISTA 25 DE MAYO     AUTOPISTA   \n",
       "176            AV. LEOPOLDO LUGONES PKM 6900      GRAL PAZ   \n",
       "180  AU PERITO MORENO Y RAMAL ENLACE AU1/AU6     AUTOPISTA   \n",
       "181                       AU DELLEPIANE 2400     AUTOPISTA   \n",
       "256              AU ARTURO FRONDIZI PKM 3100     AUTOPISTA   \n",
       "313                 AUTOPISTA LUGONES KM 4.7     AUTOPISTA   \n",
       "546             LUGONES, LEOPOLDO AV. KM 6,1     AUTOPISTA   \n",
       "559                          MURGUIONDO 2700         CALLE   \n",
       "621         AU BUENOS AIRES LA PLATA  KM 4,5     AUTOPISTA   \n",
       "\n",
       "                                          Calle     Altura   \n",
       "38                        LUGONES, LEOPOLDO AV.  AUTOPISTA  \\\n",
       "106           AUTOPISTA BUENOS AIRES - LA PLATA  AUTOPISTA   \n",
       "119                                         NaN  AUTOPISTA   \n",
       "139                        AUTOPISTA 25 DE MAYO  AUTOPISTA   \n",
       "176                       LUGONES, LEOPOLDO AV.  AUTOPISTA   \n",
       "180                     AUTOPISTA PERITO MORENO  AUTOPISTA   \n",
       "181        AUTOPISTA DELLEPIANE LUIS TTE. GRAL.  AUTOPISTA   \n",
       "256  AUTOPISTA 1 SUR PRESIDENTE ARTURO FRONDIZI  AUTOPISTA   \n",
       "313                       LUGONES, LEOPOLDO AV.  AUTOPISTA   \n",
       "546                       LUGONES, LEOPOLDO AV.  AUTOPISTA   \n",
       "559                                  MURGUIONDO  AUTOPISTA   \n",
       "621           AUTOPISTA BUENOS AIRES - LA PLATA  AUTOPISTA   \n",
       "\n",
       "                          Dirección Normalizada  COMUNA pos x pos y   \n",
       "38                                          NaN      13     .     .  \\\n",
       "106                                         NaN       4     .     .   \n",
       "119                                         NaN       0     .     .   \n",
       "139                        AUTOPISTA 25 DE MAYO       0     .     .   \n",
       "176                       LUGONES, LEOPOLDO AV.      14     .     .   \n",
       "180                                         NaN       9     .     .   \n",
       "181                                         NaN       7     .     .   \n",
       "256  AUTOPISTA 1 SUR PRESIDENTE ARTURO FRONDIZI       4     .     .   \n",
       "313                                         NaN      14     .     .   \n",
       "546                                         NaN      14     .     .   \n",
       "559                                  MURGUIONDO       9     .     .   \n",
       "621                                         NaN       4     .     .   \n",
       "\n",
       "        PARTICIPANTES VICTIMA      ACUSADO  \n",
       "38            MOTO-SD    MOTO           SD  \n",
       "106       MOTO-CARGAS    MOTO       CARGAS  \n",
       "119         PEATON-SD  PEATON           SD  \n",
       "139             SD-SD      SD           SD  \n",
       "176       MOTO-CARGAS    MOTO       CARGAS  \n",
       "180       MOTO-CARGAS    MOTO       CARGAS  \n",
       "181         AUTO-AUTO    AUTO         AUTO  \n",
       "256    MOTO-PASAJEROS    MOTO    PASAJEROS  \n",
       "313       PEATON-AUTO  PEATON         AUTO  \n",
       "546  MOTO-OBJETO FIJO    MOTO  OBJETO FIJO  \n",
       "559     PEATON-CARGAS  PEATON       CARGAS  \n",
       "621       MOTO-CARGAS    MOTO       CARGAS  "
      ]
     },
     "execution_count": 27,
     "metadata": {},
     "output_type": "execute_result"
    }
   ],
   "source": [
    "df_homicides[df_homicides[\"pos x\"] == \".\"]"
   ]
  },
  {
   "cell_type": "markdown",
   "metadata": {},
   "source": [
    "**Dentro de la columna xy tenemos algunos valores faltantes (8 especificamente) los cuales necesitamos imputar**. A mi criterio tenemos 3 posibilidades:\n",
    "- la primera es eliminar las columnas, ya que solo cerca del 1% del total de registros y  no constituye una perdida de datos significativa. \n",
    "- La segunda es aplicar algun modelo de regresion e imputarlos o basarnos en otras columnas \n",
    "- la tercer opcion es de buscalas manualmente ya que tenemos alguna referencia de donde sucedio el hecho en la columna \"LUGAR_DEL_HECHO\". Voy a optar por esta ultima."
   ]
  },
  {
   "cell_type": "markdown",
   "metadata": {},
   "source": [
    "\n",
    "**Accidentes**\n",
    "\n",
    "2016-0052 | No hay una autopista Lugones PK 10000. PK se suele utilizar para definir el \"punto kilometrico\". Hay una autopista Lugones, pero termina en la Ruta Provincial 8. La ruta provincial 8 tiene una longitud de 100 km, pero no hay un punto de referencia llamado Lugones PK 10000.\n",
    "\n",
    "2016-0151 | Lamentablemente no tengo ninguna referencia por lo que este registro no puedo utilizarlo\n",
    "\n",
    "\n",
    "\n"
   ]
  },
  {
   "cell_type": "markdown",
   "metadata": {},
   "source": [
    "**Estos accidentes suceden fuera de los limites politicos de la ciudad autonoma de Buenos Aires, y que ocurren en autopistas nacionales.** \n",
    "\n",
    "Al ser datos recopilapos por la P.F.A, es correspondiente a ellos (por cuestiones jurisdiccionales) el tratamiento de estos casos que ocurren fuera del territorio de CABA ya que todas las autopistas nacionales son cuestiones federales. Esto explica el por que figuran estos accidentes en nuestra base de datos pero exede la orbita de nuestro encargo.\n",
    "Sin embargo decido consrvar todos los posibles ya que en su mayoria se tratan de accidentes que ocurren en las cercanías de CABA."
   ]
  },
  {
   "cell_type": "markdown",
   "metadata": {},
   "source": [
    "### Imputando estos valores y eliminando registros "
   ]
  },
  {
   "cell_type": "code",
   "execution_count": 28,
   "metadata": {},
   "outputs": [],
   "source": [
    "df_homicides.iloc[106, 10] = -58.405065\n",
    "df_homicides.iloc[106, 11] = -34.650957\n",
    "\n",
    "df_homicides.iloc[180, 10] = -58.350589\n",
    "df_homicides.iloc[180, 11] = -34.647973\n",
    "\n",
    "df_homicides.iloc[181, 10] = -58.353910\n",
    "df_homicides.iloc[181, 11] = -34.647973\n",
    "\n",
    "df_homicides.iloc[313, 10] = -58.380736\n",
    "df_homicides.iloc[313, 11] = -34.626967\n",
    "\n",
    "df_homicides.iloc[621, 10] = -58.368783\n",
    "df_homicides.iloc[621, 11] = -34.649867\n",
    "\n",
    "#quedaron algunos registros sin coordenadas pero son muy pocos\n",
    "\n"
   ]
  },
  {
   "cell_type": "markdown",
   "metadata": {},
   "source": [
    "Logramos asignar valor a varios de estos registros"
   ]
  },
  {
   "cell_type": "code",
   "execution_count": 29,
   "metadata": {},
   "outputs": [],
   "source": [
    "df_homicides = df_homicides[df_homicides[\"pos x\"] != '.']"
   ]
  },
  {
   "cell_type": "code",
   "execution_count": 30,
   "metadata": {},
   "outputs": [
    {
     "name": "stdout",
     "output_type": "stream",
     "text": [
      "1900-01-02 00:00:00\n",
      "1900-01-14 07:12:00\n",
      "1900-01-04 18:40:00\n"
     ]
    }
   ],
   "source": [
    "#hay algunos registros que debemos modificar dentro de la columna HORA y hay un valor que no tiene hora, para mantenerlo voy a cambiarlo por 00:00:00\n",
    "print(df_homicides.iloc[434, 3])\n",
    "print(df_homicides.iloc[436, 3])\n",
    "print(df_homicides.iloc[491, 3])"
   ]
  },
  {
   "cell_type": "code",
   "execution_count": 31,
   "metadata": {},
   "outputs": [
    {
     "name": "stdout",
     "output_type": "stream",
     "text": [
      "12:00:00\n",
      "22:50:00\n",
      "03:40:00\n"
     ]
    }
   ],
   "source": [
    "import datetime\n",
    "df_homicides.iloc[434, 3] = datetime.time(00, 00, 00)\n",
    "df_homicides.iloc[436, 3] = datetime.time(7,12,00)\n",
    "df_homicides.iloc[491, 3] = datetime.time(18,40,00)\n",
    "df_homicides[\"HORA\"].replace(\"SD\", \"00, 00, 00\")\n",
    "print(df_homicides.iloc[431, 3])\n",
    "print(df_homicides.iloc[433, 3])\n",
    "print(df_homicides.iloc[488, 3])"
   ]
  },
  {
   "cell_type": "markdown",
   "metadata": {},
   "source": [
    "Mi siguiente paso va a ser hacer un join entre las dos tablas que tienen los datos de las victimas, voy a utilizar de esta tabla unicamente el sexo, la edad y el rol ya que las fechas las tengo normalizadas en mi otra tabla y particularmente no siento un interes en averiguar el tiempo que paso desde la ocurrencia del hecho hasta que se produce el fallecimiento del involucrado. Tambien voy a eliminar de mi tabla de homicidios la columna \"VICTIMA\" y \"N_VICTIMAS\" ya que tengo datos mas precisos en mi talba de victimas y voy a tener un registro por victima."
   ]
  },
  {
   "cell_type": "code",
   "execution_count": 32,
   "metadata": {},
   "outputs": [],
   "source": [
    "#eliminamos la columna VICTIMA y N_VICTIMAS\n",
    "df_homicides.drop(columns=[\"VICTIMA\",\"N_VICTIMAS\"], inplace=True)\n",
    "\n",
    "\n",
    "#normalizamos el ID_hecho para apoder hacer el join\n",
    "df_victimas['ID_hecho'] = df_victimas['ID_hecho'].str.replace('-', '')\n",
    "\n",
    "\n",
    "#elimino las columnas que no me interesan del df_vicitmas\n",
    "df_victimas.drop(columns=[\"FECHA\",\"AAAA\",\"MM\",\"DD\",\"FECHA_FALLECIMIENTO\"], inplace=True)\n",
    "\n",
    "\n",
    "#realizamos el join\n",
    "df_homicides = df_homicides.merge(df_victimas, left_on=\"ID\", right_on=\"ID_hecho\")\n",
    "\n",
    "\n",
    "#elimino la columna residual\n",
    "df_homicides.drop(columns=\"ID_hecho\", inplace=True)"
   ]
  },
  {
   "cell_type": "markdown",
   "metadata": {},
   "source": [
    "Tambien realizo unas ultimas normalizaciones que me van a servir al momento de graficar\n"
   ]
  },
  {
   "cell_type": "code",
   "execution_count": 47,
   "metadata": {},
   "outputs": [],
   "source": [
    "df_homicides[\"Dirección Normalizada\"] = df_homicides[\"Dirección Normalizada\"].fillna(\"AUTOPISTA\")"
   ]
  },
  {
   "cell_type": "markdown",
   "metadata": {},
   "source": [
    "Altero esto para poder categorizar de otra manera la informaicon. Por ahora lo que vengo observando es que la gran mayoria de los accidentes ocurren en intersecciones de 2 calles por lo que me parece importante poder hacer esa distincion ademas de la propuesta (TIPO_DE_CALLE). Mi propuesta es Interseccion, mitad de cuadra, y Autopista"
   ]
  },
  {
   "cell_type": "code",
   "execution_count": null,
   "metadata": {},
   "outputs": [],
   "source": [
    "df_homicides[\"Altura\"][(df_homicides[\"Altura\"] != \"AUTOPISTA\") & (df_homicides[\"Altura\"] != \"INTERSECCION\")] = \"MITAD DE CUADRA\"\n",
    "df_homicides.rename(columns={\"Altura\" : \"Ubicacion del accidente\"}, inplace=True)"
   ]
  },
  {
   "cell_type": "code",
   "execution_count": 54,
   "metadata": {},
   "outputs": [],
   "source": [
    "df_homicides.to_csv(\"homicidios_normalizado.csv\")"
   ]
  }
 ],
 "metadata": {
  "kernelspec": {
   "display_name": "Python 3",
   "language": "python",
   "name": "python3"
  },
  "language_info": {
   "codemirror_mode": {
    "name": "ipython",
    "version": 3
   },
   "file_extension": ".py",
   "mimetype": "text/x-python",
   "name": "python",
   "nbconvert_exporter": "python",
   "pygments_lexer": "ipython3",
   "version": "3.11.2"
  },
  "orig_nbformat": 4
 },
 "nbformat": 4,
 "nbformat_minor": 2
}
